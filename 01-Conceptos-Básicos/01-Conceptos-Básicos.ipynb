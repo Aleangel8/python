{
 "cells": [
  {
   "cell_type": "code",
   "execution_count": 1,
   "metadata": {},
   "outputs": [],
   "source": [
    "# Declaración de variables\n",
    "numero = 10\n",
    "Numero = 20\n",
    "saludo = \"Hola Mundo !!!\" \n",
    "saludo2=\"\"\"Hola \n",
    "Mundo\"\"\""
   ]
  },
  {
   "cell_type": "code",
   "execution_count": 2,
   "metadata": {},
   "outputs": [
    {
     "name": "stdout",
     "output_type": "stream",
     "text": [
      "10\n",
      "20\n",
      "30\n",
      "Hola Mundo !!!\n",
      "<class 'int'>\n",
      "<class 'str'>\n",
      "Mi saludo es: Hola Mundo !!!\n",
      "Hola \n",
      "Mundo\n"
     ]
    }
   ],
   "source": [
    "# Mostramos el contenido de las variables\n",
    "print(numero)\n",
    "print(Numero)\n",
    "print(numero+Numero)\n",
    "print(saludo)\n",
    "print(type(numero))\n",
    "print(type(saludo))\n",
    "print(\"Mi saludo es: \"+saludo)\n",
    "print(saludo2)"
   ]
  },
  {
   "cell_type": "code",
   "execution_count": 3,
   "metadata": {},
   "outputs": [
    {
     "name": "stdout",
     "output_type": "stream",
     "text": [
      "<class 'int'>\n",
      "<class 'float'>\n",
      "<class 'str'>\n",
      "<class 'str'>\n",
      "<class 'bool'>\n",
      "<class 'tuple'>\n",
      "<class 'list'>\n",
      "<class 'set'>\n",
      "<class 'list'>\n"
     ]
    }
   ],
   "source": [
    "#Rafaga de Types\n",
    "print(type(3))\n",
    "print(type(3.1))\n",
    "print(type(\"3\"))\n",
    "print(type(\"tres\"))\n",
    "print(type(3==3))\n",
    "print(type(('1','2','3')))\n",
    "print(type([\"1\",\"2\",\"3\"]))\n",
    "print(type({\"1\",\"2\",\"3\"}))\n",
    "print(type([1,2,3]))\n"
   ]
  }
 ],
 "metadata": {
  "kernelspec": {
   "display_name": "Python 3",
   "language": "python",
   "name": "python3"
  },
  "language_info": {
   "codemirror_mode": {
    "name": "ipython",
    "version": 3
   },
   "file_extension": ".py",
   "mimetype": "text/x-python",
   "name": "python",
   "nbconvert_exporter": "python",
   "pygments_lexer": "ipython3",
   "version": "3.9.6"
  },
  "orig_nbformat": 4,
  "vscode": {
   "interpreter": {
    "hash": "236304f4684dae0bffa8056376a886a2aed46453baa1e705024c100fe3384a1f"
   }
  }
 },
 "nbformat": 4,
 "nbformat_minor": 2
}
